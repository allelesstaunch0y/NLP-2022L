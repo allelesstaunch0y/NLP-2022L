{
 "cells": [
  {
   "cell_type": "markdown",
   "metadata": {
    "tags": []
   },
   "source": [
    "# Imports"
   ]
  },
  {
   "cell_type": "code",
   "execution_count": 2,
   "metadata": {},
   "outputs": [
    {
     "name": "stderr",
     "output_type": "stream",
     "text": [
      "[nltk_data] Downloading package punkt to /home/bodo/nltk_data...\n",
      "[nltk_data]   Package punkt is already up-to-date!\n",
      "[nltk_data] Downloading package wordnet to /home/bodo/nltk_data...\n",
      "[nltk_data]   Package wordnet is already up-to-date!\n",
      "[nltk_data] Downloading package omw-1.4 to /home/bodo/nltk_data...\n",
      "[nltk_data]   Package omw-1.4 is already up-to-date!\n",
      "[nltk_data] Downloading package averaged_perceptron_tagger to\n",
      "[nltk_data]     /home/bodo/nltk_data...\n",
      "[nltk_data]   Package averaged_perceptron_tagger is already up-to-\n",
      "[nltk_data]       date!\n",
      "[nltk_data] Downloading package stopwords to /home/bodo/nltk_data...\n",
      "[nltk_data]   Package stopwords is already up-to-date!\n"
     ]
    },
    {
     "data": {
      "text/plain": [
       "True"
      ]
     },
     "execution_count": 2,
     "metadata": {},
     "output_type": "execute_result"
    }
   ],
   "source": [
    "# Math\n",
    "import torch\n",
    "import numpy as np\n",
    "\n",
    "# Flair Device\n",
    "import flair\n",
    "flair.device = torch.device('cpu')\n",
    "\n",
    "# Analysis\n",
    "import matplotlib.pyplot as plt\n",
    "from tqdm import tqdm, trange\n",
    "\n",
    "# Autoencoder and Dataset Preparation\n",
    "from data.imdb_preparation import IMDB_preparation\n",
    "from data.ag_news_preparation import AG_NEWS_preparation\n",
    "from autoencoders.autoencoder import Autoencoder\n",
    "\n",
    "# Downloading Packages\n",
    "import nltk\n",
    "nltk.download('punkt')\n",
    "nltk.download('wordnet')\n",
    "nltk.download('omw-1.4')\n",
    "nltk.download('averaged_perceptron_tagger')\n",
    "nltk.download('stopwords')"
   ]
  },
  {
   "cell_type": "markdown",
   "metadata": {
    "tags": []
   },
   "source": [
    "# 1. Vanilla Autoencoder"
   ]
  },
  {
   "cell_type": "markdown",
   "metadata": {
    "tags": []
   },
   "source": [
    "## 1.1 Loading Data"
   ]
  },
  {
   "cell_type": "code",
   "execution_count": 2,
   "metadata": {},
   "outputs": [
    {
     "name": "stderr",
     "output_type": "stream",
     "text": [
      "/home/bodo/.local/lib/python3.8/site-packages/torch/utils/data/datapipes/utils/common.py:24: UserWarning: Lambda function is not supported for pickle, please use regular python function or functools.partial instead.\n",
      "  warnings.warn(\n",
      "/home/bodo/.local/lib/python3.8/site-packages/torch/utils/data/datapipes/iter/selecting.py:54: UserWarning: Lambda function is not supported for pickle, please use regular python function or functools.partial instead.\n",
      "  warnings.warn(\"Lambda function is not supported for pickle, please use \"\n"
     ]
    },
    {
     "name": "stdout",
     "output_type": "stream",
     "text": [
      "Preparing sentences...\n"
     ]
    },
    {
     "name": "stderr",
     "output_type": "stream",
     "text": [
      "100%|████████████████████████████████████████████████████████████████████████████████████████████████████████████████████████████████| 25000/25000 [03:52<00:00, 107.58it/s]\n"
     ]
    },
    {
     "name": "stdout",
     "output_type": "stream",
     "text": [
      "Making sentences...\n"
     ]
    },
    {
     "name": "stderr",
     "output_type": "stream",
     "text": [
      "100%|████████████████████████████████████████████████████████████████████████████████████████████████████████████████████████████████| 25000/25000 [01:14<00:00, 337.77it/s]\n"
     ]
    },
    {
     "name": "stdout",
     "output_type": "stream",
     "text": [
      "Embedding sentences...\n"
     ]
    },
    {
     "name": "stderr",
     "output_type": "stream",
     "text": [
      "100%|████████████████████████████████████████████████████████████████████████████████████████████████████████████████████████████████| 25000/25000 [00:26<00:00, 928.70it/s]\n"
     ]
    },
    {
     "name": "stdout",
     "output_type": "stream",
     "text": [
      "Splitting sentences...\n"
     ]
    },
    {
     "name": "stderr",
     "output_type": "stream",
     "text": [
      "100%|███████████████████████████████████████████████████████████████████████████████████████████████████████████████████████████████| 25000/25000 [00:05<00:00, 4511.23it/s]\n"
     ]
    },
    {
     "name": "stdout",
     "output_type": "stream",
     "text": [
      "Done!\n"
     ]
    }
   ],
   "source": [
    "ds = IMDB_preparation()"
   ]
  },
  {
   "cell_type": "code",
   "execution_count": 3,
   "metadata": {},
   "outputs": [],
   "source": [
    "ds_train, ds_valid = torch.utils.data.random_split(ds, [len(ds) - 1000, 1000])"
   ]
  },
  {
   "cell_type": "code",
   "execution_count": 4,
   "metadata": {},
   "outputs": [],
   "source": [
    "dl_train = torch.utils.data.DataLoader(ds_train, batch_size=32, shuffle=True)\n",
    "dl_valid = torch.utils.data.DataLoader(ds_valid, batch_size=32, shuffle=True)"
   ]
  },
  {
   "cell_type": "markdown",
   "metadata": {
    "tags": []
   },
   "source": [
    "## 1.2 Training loop"
   ]
  },
  {
   "cell_type": "code",
   "execution_count": 5,
   "metadata": {},
   "outputs": [],
   "source": [
    "m = Autoencoder(100,100,100,4,3,variational=False, max_log2len=8)\n",
    "Ls_train = []\n",
    "Ls_valid = []\n",
    "device = 'cuda'\n",
    "m = m.to(device)"
   ]
  },
  {
   "cell_type": "code",
   "execution_count": 6,
   "metadata": {},
   "outputs": [],
   "source": [
    "opt = torch.optim.Adamax(m.parameters(), lr=0.001, weight_decay=0.0001)"
   ]
  },
  {
   "cell_type": "code",
   "execution_count": 8,
   "metadata": {},
   "outputs": [
    {
     "name": "stdout",
     "output_type": "stream",
     "text": [
      "Epoch: 0\n"
     ]
    },
    {
     "name": "stderr",
     "output_type": "stream",
     "text": [
      "L: 186.76663208007812: 100%|████████████████████████████████████████████████████████████████████████████████████████████████████████████| 8221/8221 [09:02<00:00, 15.15it/s]\n",
      "VL: 155.81634521484375: 100%|███████████████████████████████████████████████████████████████████████████████████████████████████████████████| 32/32 [00:00<00:00, 55.56it/s]\n"
     ]
    },
    {
     "name": "stdout",
     "output_type": "stream",
     "text": [
      "Epoch: 1\n"
     ]
    },
    {
     "name": "stderr",
     "output_type": "stream",
     "text": [
      "L: 149.3340606689453: 100%|█████████████████████████████████████████████████████████████████████████████████████████████████████████████| 8221/8221 [09:14<00:00, 14.83it/s]\n",
      "VL: 154.14382934570312: 100%|███████████████████████████████████████████████████████████████████████████████████████████████████████████████| 32/32 [00:00<00:00, 53.99it/s]\n"
     ]
    },
    {
     "name": "stdout",
     "output_type": "stream",
     "text": [
      "Epoch: 2\n"
     ]
    },
    {
     "name": "stderr",
     "output_type": "stream",
     "text": [
      "L: 138.83993530273438: 100%|████████████████████████████████████████████████████████████████████████████████████████████████████████████| 8221/8221 [09:47<00:00, 14.00it/s]\n",
      "VL: 139.8900146484375: 100%|████████████████████████████████████████████████████████████████████████████████████████████████████████████████| 32/32 [00:00<00:00, 62.68it/s]\n"
     ]
    },
    {
     "name": "stdout",
     "output_type": "stream",
     "text": [
      "Epoch: 3\n"
     ]
    },
    {
     "name": "stderr",
     "output_type": "stream",
     "text": [
      "L: 161.1940460205078: 100%|█████████████████████████████████████████████████████████████████████████████████████████████████████████████| 8221/8221 [09:46<00:00, 14.02it/s]\n",
      "VL: 147.70791625976562: 100%|███████████████████████████████████████████████████████████████████████████████████████████████████████████████| 32/32 [00:00<00:00, 53.21it/s]\n"
     ]
    },
    {
     "name": "stdout",
     "output_type": "stream",
     "text": [
      "Epoch: 4\n"
     ]
    },
    {
     "name": "stderr",
     "output_type": "stream",
     "text": [
      "L: 136.5862579345703: 100%|█████████████████████████████████████████████████████████████████████████████████████████████████████████████| 8221/8221 [11:09<00:00, 12.28it/s]\n",
      "VL: 131.63316345214844: 100%|███████████████████████████████████████████████████████████████████████████████████████████████████████████████| 32/32 [00:00<00:00, 43.07it/s]\n"
     ]
    },
    {
     "name": "stdout",
     "output_type": "stream",
     "text": [
      "Epoch: 5\n"
     ]
    },
    {
     "name": "stderr",
     "output_type": "stream",
     "text": [
      "L: 148.1027069091797: 100%|█████████████████████████████████████████████████████████████████████████████████████████████████████████████| 8221/8221 [09:37<00:00, 14.23it/s]\n",
      "VL: 129.28761291503906: 100%|███████████████████████████████████████████████████████████████████████████████████████████████████████████████| 32/32 [00:00<00:00, 60.17it/s]\n"
     ]
    }
   ],
   "source": [
    "m = m.train()\n",
    "EPOCHS = 6\n",
    "for e in range(EPOCHS):\n",
    "    print(f\"Epoch: {e}\")\n",
    "    m = m.train()\n",
    "    pbar = tqdm(dl_train)\n",
    "    for i, (x_in, x_out) in enumerate(pbar):\n",
    "        opt.zero_grad()\n",
    "        x_in = x_in.to(device)\n",
    "        x_out = x_out.to(device)\n",
    "        mx = m(x_in)\n",
    "        L = (mx - x_out).pow(2).sum((1,2)).mean()\n",
    "        L.backward()\n",
    "        opt.step()\n",
    "    \n",
    "        pbar.set_description(f\"L: {L.item()}\")\n",
    "        Ls_train.append(L.item())\n",
    "    \n",
    "    with torch.no_grad():\n",
    "        m = m.eval()\n",
    "        pbar = tqdm(dl_valid)\n",
    "        for i, (x_in, x_out) in enumerate(pbar):\n",
    "            x_in = x_in.to(device)\n",
    "            x_out = x_out.to(device)\n",
    "            mx = m(x_in)\n",
    "            L = (mx - x_out).pow(2).sum((1,2)).mean()\n",
    "            pbar.set_description(f\"VL: {L.item()}\")\n",
    "            Ls_valid.append(L.item())\n",
    "            "
   ]
  },
  {
   "cell_type": "code",
   "execution_count": 9,
   "metadata": {},
   "outputs": [],
   "source": [
    "# torch.save(({'train': Ls_train, 'valid':Ls_valid}, m.state_dict()), 'vanilla_6_IMDB.pt')"
   ]
  },
  {
   "cell_type": "code",
   "execution_count": 4,
   "metadata": {},
   "outputs": [],
   "source": [
    "losses, _ = torch.load('vanilla_6_IMDB.pt')"
   ]
  },
  {
   "cell_type": "code",
   "execution_count": 6,
   "metadata": {},
   "outputs": [
    {
     "data": {
      "text/plain": [
       "<matplotlib.legend.Legend at 0x7f32640f8ac0>"
      ]
     },
     "execution_count": 6,
     "metadata": {},
     "output_type": "execute_result"
    },
    {
     "data": {
      "image/png": "[encoded data removed]",
      "text/plain": [
       "<Figure size 432x288 with 1 Axes>"
      ]
     },
     "metadata": {
      "needs_background": "light"
     },
     "output_type": "display_data"
    }
   ],
   "source": [
    "plt.plot(losses['train'], label='training loss')\n",
    "for i in range(6):\n",
    "    plt.scatter(\n",
    "        [(i+1)*263066//32 for _ in range(32)],\n",
    "        losses['valid'][i*32:(i+1)*32],\n",
    "        zorder=2,\n",
    "        c='firebrick',\n",
    "        label='validation loss' if i == 0 else ''\n",
    "    )\n",
    "plt.title('Training Loss and Validation Loss')\n",
    "plt.xlabel('Iterations')\n",
    "plt.ylabel('Loss')\n",
    "plt.legend()"
   ]
  },
  {
   "cell_type": "markdown",
   "metadata": {},
   "source": [
    "The plot above is a comparison of training and validation losses during training. The model has been trained for 6 epochs. After each epoch, a validation loss was calculated (for 32 batches in the validation dataset). The blue line is validation loss per iteration. The red dots are losses for all batches in the validation dataset.\n",
    "\n",
    "As we can see above, the validation loss closely matches the training loss in terms of mean and deviation. This is expected, as the autoencoder's representation of the sentence is small, the autoencoder itself is small and the dataset is big enough.\n",
    "\n",
    "The loss does not reduce much during training. Since we do not aim to accuratelly recreate the sentences, but to capture high level features of them, this is expected. The loss keeps decreasing at a very low rate. "
   ]
  },
  {
   "cell_type": "markdown",
   "metadata": {
    "tags": []
   },
   "source": [
    "# 2. VAE"
   ]
  },
  {
   "cell_type": "markdown",
   "metadata": {
    "tags": []
   },
   "source": [
    "## 2.1 Loading Data"
   ]
  },
  {
   "cell_type": "code",
   "execution_count": null,
   "metadata": {},
   "outputs": [],
   "source": [
    "ds = IMDB_preparation()"
   ]
  },
  {
   "cell_type": "code",
   "execution_count": 13,
   "metadata": {},
   "outputs": [],
   "source": [
    "ds_train, ds_valid = torch.utils.data.random_split(ds, [len(ds) - 1000, 1000])"
   ]
  },
  {
   "cell_type": "code",
   "execution_count": 14,
   "metadata": {},
   "outputs": [],
   "source": [
    "dl_train = torch.utils.data.DataLoader(ds_train, batch_size=32, shuffle=True)\n",
    "dl_valid = torch.utils.data.DataLoader(ds_valid, batch_size=32, shuffle=True)"
   ]
  },
  {
   "cell_type": "markdown",
   "metadata": {
    "tags": []
   },
   "source": [
    "## 2.2 Training loop"
   ]
  },
  {
   "cell_type": "code",
   "execution_count": 20,
   "metadata": {},
   "outputs": [],
   "source": [
    "m = Autoencoder(100,100,100,4,3,variational=True,max_log2len=8)\n",
    "Ls = []\n",
    "Lsmse = []\n",
    "Lsvar = []\n",
    "Ls_train = []\n",
    "Ls_valid = []\n",
    "device = 'cuda'\n",
    "m = m.to(device)"
   ]
  },
  {
   "cell_type": "code",
   "execution_count": 21,
   "metadata": {},
   "outputs": [],
   "source": [
    "Ls = []\n",
    "Lsmse = []\n",
    "Lsvar = []\n",
    "Ls_train = []\n",
    "Ls_valid = []"
   ]
  },
  {
   "cell_type": "code",
   "execution_count": 22,
   "metadata": {},
   "outputs": [],
   "source": [
    "opt = torch.optim.Adamax(m.parameters(), lr=0.001, weight_decay=0.0001)"
   ]
  },
  {
   "cell_type": "code",
   "execution_count": 23,
   "metadata": {},
   "outputs": [
    {
     "name": "stdout",
     "output_type": "stream",
     "text": [
      "Epoch: 5\n"
     ]
    },
    {
     "name": "stderr",
     "output_type": "stream",
     "text": [
      "L: 271.5745849609375 Lmse: 269.673583984375 Lvar: 19.009883880615234: 100%|█████████████████████████████████████████████████████████████| 8221/8221 [10:12<00:00, 13.43it/s]\n",
      "VL: 295.18243408203125: 100%|███████████████████████████████████████████████████████████████████████████████████████████████████████████████| 32/32 [00:00<00:00, 53.30it/s]\n"
     ]
    },
    {
     "name": "stdout",
     "output_type": "stream",
     "text": [
      "Epoch: 6\n"
     ]
    },
    {
     "name": "stderr",
     "output_type": "stream",
     "text": [
      "L: 255.68357849121094 Lmse: 252.4988250732422 Lvar: 31.847572326660156: 100%|███████████████████████████████████████████████████████████| 8221/8221 [10:25<00:00, 13.15it/s]\n",
      "VL: 240.3746337890625: 100%|████████████████████████████████████████████████████████████████████████████████████████████████████████████████| 32/32 [00:00<00:00, 60.30it/s]\n"
     ]
    },
    {
     "name": "stdout",
     "output_type": "stream",
     "text": [
      "Epoch: 7\n"
     ]
    },
    {
     "name": "stderr",
     "output_type": "stream",
     "text": [
      "L: 264.7067565917969 Lmse: 261.6387634277344 Lvar: 30.680068969726562: 100%|████████████████████████████████████████████████████████████| 8221/8221 [09:27<00:00, 14.48it/s]\n",
      "VL: 234.60321044921875: 100%|███████████████████████████████████████████████████████████████████████████████████████████████████████████████| 32/32 [00:00<00:00, 60.64it/s]\n"
     ]
    },
    {
     "name": "stdout",
     "output_type": "stream",
     "text": [
      "Epoch: 8\n"
     ]
    },
    {
     "name": "stderr",
     "output_type": "stream",
     "text": [
      "L: 261.85333251953125 Lmse: 258.5994567871094 Lvar: 32.538814544677734: 100%|███████████████████████████████████████████████████████████| 8221/8221 [10:07<00:00, 13.52it/s]\n",
      "VL: 231.30929565429688: 100%|███████████████████████████████████████████████████████████████████████████████████████████████████████████████| 32/32 [00:00<00:00, 57.84it/s]\n"
     ]
    },
    {
     "name": "stdout",
     "output_type": "stream",
     "text": [
      "Epoch: 9\n"
     ]
    },
    {
     "name": "stderr",
     "output_type": "stream",
     "text": [
      "L: 243.3819580078125 Lmse: 239.8490753173828 Lvar: 35.328880310058594: 100%|████████████████████████████████████████████████████████████| 8221/8221 [09:56<00:00, 13.78it/s]\n",
      "VL: 238.36358642578125: 100%|███████████████████████████████████████████████████████████████████████████████████████████████████████████████| 32/32 [00:00<00:00, 56.59it/s]\n"
     ]
    },
    {
     "name": "stdout",
     "output_type": "stream",
     "text": [
      "Epoch: 10\n"
     ]
    },
    {
     "name": "stderr",
     "output_type": "stream",
     "text": [
      "L: 240.2130126953125 Lmse: 236.48056030273438 Lvar: 37.3245849609375: 100%|█████████████████████████████████████████████████████████████| 8221/8221 [10:15<00:00, 13.35it/s]\n",
      "VL: 234.86370849609375: 100%|███████████████████████████████████████████████████████████████████████████████████████████████████████████████| 32/32 [00:00<00:00, 46.66it/s]\n"
     ]
    }
   ],
   "source": [
    "EPOCHS = 6\n",
    "beta = 0.1\n",
    "offset = 5\n",
    "for e in range(EPOCHS):\n",
    "    e += offset\n",
    "    print(f\"Epoch: {e}\")\n",
    "    pbar = tqdm(dl_train)\n",
    "    m = m.train()\n",
    "    for i, (x_in, x_out) in enumerate(pbar):\n",
    "        opt.zero_grad()\n",
    "        x_in = x_in.to(device)\n",
    "        x_out = x_out.to(device)\n",
    "        mx, (mu, logvar) = m(x_in, return_Z=True)\n",
    "        Lmse = (mx - x_out).pow(2).sum((1,2)).mean()\n",
    "        Lvar = - 0.5 * (1 + logvar - mu.pow(2) - logvar.exp()).sum((1,2)).mean()\n",
    "        L = Lmse + beta*Lvar\n",
    "        L.backward()\n",
    "        opt.step()\n",
    "    \n",
    "        pbar.set_description(f\"L: {L.item()} Lmse: {Lmse.item()} Lvar: {Lvar.item()}\")\n",
    "        \n",
    "        Lsmse.append(Lmse.item())\n",
    "        Lsvar.append(Lvar.item())\n",
    "        Ls.append(L.item())\n",
    "    with torch.no_grad():\n",
    "        m = m.eval()\n",
    "        pbar = tqdm(dl_valid)\n",
    "        for i, (x_in, x_out) in enumerate(pbar):\n",
    "            x_in = x_in.to(device)\n",
    "            x_out = x_out.to(device)\n",
    "            mx = m(x_in)\n",
    "            L = (mx - x_out).pow(2).sum((1,2)).mean()\n",
    "            pbar.set_description(f\"VL: {L.item()}\")\n",
    "            Ls_valid.append(L.item())\n"
   ]
  },
  {
   "cell_type": "code",
   "execution_count": 24,
   "metadata": {},
   "outputs": [],
   "source": [
    "# torch.save(({'train': Ls_train, 'valid':Ls, 'mse': Lmse, 'var': Lvar}, m.state_dict()), 'vae_6_IMDB.pt')"
   ]
  },
  {
   "cell_type": "code",
   "execution_count": 25,
   "metadata": {},
   "outputs": [
    {
     "data": {
      "text/plain": [
       "<matplotlib.legend.Legend at 0x7fa6abcb44f0>"
      ]
     },
     "execution_count": 25,
     "metadata": {},
     "output_type": "execute_result"
    },
    {
     "data": {
      "image/png": "[encoded data removed]",
      "text/plain": [
       "<Figure size 432x288 with 1 Axes>"
      ]
     },
     "metadata": {
      "needs_background": "light"
     },
     "output_type": "display_data"
    }
   ],
   "source": [
    "plt.plot(np.log(Ls), label=\"Ls\")\n",
    "plt.plot(np.log(Lsmse), label=\"MSE\")\n",
    "plt.plot(np.log(beta*np.array(Lsvar)), label=\"VAR\")\n",
    "plt.legend()"
   ]
  },
  {
   "cell_type": "markdown",
   "metadata": {},
   "source": [
    "The above plot shows the training loss of the variational autoencoder (logarithm). The blue line corresponds to overall loss, the orange one to MSE and the green to variational loss. Overall loss is a sum of the two other losses.\n",
    "\n",
    "As we can see, the loss is higher than for vanilla autoencoder. The loss falls at a similar rate. Most of the overall loss corresponds to the MSE, as expected. The variational loss quickly falls at the beginning, but rises as the MSE lowers slightly.\n",
    "\n",
    "The parameters has been tuned in such a way, that the inner representation is regularized enough, for it to be close to the selected distribution for the latent variable. For smaller $\\beta$ parameter, the autoencoder would be only something between the true VAE and vanilla autoencoder, while we want to compare results with the variational autoencoder, as it is trained usually. As we will see, this actually does not decrese final performance for few-shot learning."
   ]
  },
  {
   "cell_type": "markdown",
   "metadata": {},
   "source": [
    "The validation loss was again close to the training loss, we show it below separatelly."
   ]
  },
  {
   "cell_type": "code",
   "execution_count": 26,
   "metadata": {},
   "outputs": [
    {
     "data": {
      "text/plain": [
       "<matplotlib.legend.Legend at 0x7fa6b3f31910>"
      ]
     },
     "execution_count": 26,
     "metadata": {},
     "output_type": "execute_result"
    },
    {
     "data": {
      "image/png": "[encoded data removed]",
      "text/plain": [
       "<Figure size 432x288 with 1 Axes>"
      ]
     },
     "metadata": {
      "needs_background": "light"
     },
     "output_type": "display_data"
    }
   ],
   "source": [
    "plt.plot(np.log(Ls_valid), label=\"Ls\")\n",
    "plt.legend()"
   ]
  },
  {
   "cell_type": "markdown",
   "metadata": {
    "tags": []
   },
   "source": [
    "# 3. Denoising Autoencoder"
   ]
  },
  {
   "cell_type": "markdown",
   "metadata": {
    "tags": []
   },
   "source": [
    "## 3.1 Loading Data"
   ]
  },
  {
   "cell_type": "code",
   "execution_count": 2,
   "metadata": {},
   "outputs": [
    {
     "name": "stderr",
     "output_type": "stream",
     "text": [
      "/home/bodo/.local/lib/python3.8/site-packages/torch/utils/data/datapipes/utils/common.py:24: UserWarning: Lambda function is not supported for pickle, please use regular python function or functools.partial instead.\n",
      "  warnings.warn(\n",
      "/home/bodo/.local/lib/python3.8/site-packages/torch/utils/data/datapipes/iter/selecting.py:54: UserWarning: Lambda function is not supported for pickle, please use regular python function or functools.partial instead.\n",
      "  warnings.warn(\"Lambda function is not supported for pickle, please use \"\n"
     ]
    },
    {
     "name": "stdout",
     "output_type": "stream",
     "text": [
      "Preparing sentences...\n"
     ]
    },
    {
     "name": "stderr",
     "output_type": "stream",
     "text": [
      "100%|████████████████████████████████████████████████████████████████████████████████████████████████████████████████████████████████| 25000/25000 [03:28<00:00, 119.84it/s]\n"
     ]
    },
    {
     "name": "stdout",
     "output_type": "stream",
     "text": [
      "Making sentences...\n"
     ]
    },
    {
     "name": "stderr",
     "output_type": "stream",
     "text": [
      "100%|████████████████████████████████████████████████████████████████████████████████████████████████████████████████████████████████| 25000/25000 [01:02<00:00, 396.96it/s]\n"
     ]
    },
    {
     "name": "stdout",
     "output_type": "stream",
     "text": [
      "Embedding sentences...\n"
     ]
    },
    {
     "name": "stderr",
     "output_type": "stream",
     "text": [
      "100%|████████████████████████████████████████████████████████████████████████████████████████████████████████████████████████████████| 25000/25000 [00:26<00:00, 947.91it/s]\n"
     ]
    },
    {
     "name": "stdout",
     "output_type": "stream",
     "text": [
      "Splitting sentences...\n"
     ]
    },
    {
     "name": "stderr",
     "output_type": "stream",
     "text": [
      "100%|███████████████████████████████████████████████████████████████████████████████████████████████████████████████████████████████| 25000/25000 [00:02<00:00, 9235.47it/s]"
     ]
    },
    {
     "name": "stdout",
     "output_type": "stream",
     "text": [
      "Done!\n"
     ]
    },
    {
     "name": "stderr",
     "output_type": "stream",
     "text": [
      "\n"
     ]
    }
   ],
   "source": [
    "ds = IMDB_preparation(aug_params={})"
   ]
  },
  {
   "cell_type": "code",
   "execution_count": 3,
   "metadata": {},
   "outputs": [],
   "source": [
    "ds_train, ds_valid = torch.utils.data.random_split(ds, [len(ds) - 1000, 1000])"
   ]
  },
  {
   "cell_type": "code",
   "execution_count": 4,
   "metadata": {},
   "outputs": [],
   "source": [
    "dl_train = torch.utils.data.DataLoader(ds_train, batch_size=32, shuffle=True, drop_last=True)\n",
    "dl_valid = torch.utils.data.DataLoader(ds_valid, batch_size=32, shuffle=True, drop_last=True)"
   ]
  },
  {
   "cell_type": "markdown",
   "metadata": {
    "tags": []
   },
   "source": [
    "## 3.2 Training loop"
   ]
  },
  {
   "cell_type": "code",
   "execution_count": 5,
   "metadata": {},
   "outputs": [],
   "source": [
    "m = Autoencoder(100,100,100,4,3,variational=False, max_log2len=8)\n",
    "Ls_train = []\n",
    "Ls_valid = []\n",
    "device = 'cuda'\n",
    "m = m.to(device)"
   ]
  },
  {
   "cell_type": "code",
   "execution_count": 6,
   "metadata": {},
   "outputs": [],
   "source": [
    "opt = torch.optim.Adamax(m.parameters(), lr=0.001, weight_decay=0.0001)"
   ]
  },
  {
   "cell_type": "code",
   "execution_count": 7,
   "metadata": {},
   "outputs": [
    {
     "name": "stdout",
     "output_type": "stream",
     "text": [
      "Epoch: 0\n"
     ]
    },
    {
     "name": "stderr",
     "output_type": "stream",
     "text": [
      "L: 242.6908721923828: 100%|█████████████████████████████████████████████████████████████████████████████████████████████████████████████| 8220/8220 [11:59<00:00, 11.43it/s]\n",
      "VL: 234.15310668945312: 100%|███████████████████████████████████████████████████████████████████████████████████████████████████████████████| 31/31 [00:01<00:00, 21.21it/s]\n"
     ]
    },
    {
     "name": "stdout",
     "output_type": "stream",
     "text": [
      "Epoch: 1\n"
     ]
    },
    {
     "name": "stderr",
     "output_type": "stream",
     "text": [
      "L: 235.4715576171875: 100%|█████████████████████████████████████████████████████████████████████████████████████████████████████████████| 8220/8220 [12:23<00:00, 11.05it/s]\n",
      "VL: 218.5994110107422: 100%|████████████████████████████████████████████████████████████████████████████████████████████████████████████████| 31/31 [00:01<00:00, 23.38it/s]\n"
     ]
    },
    {
     "name": "stdout",
     "output_type": "stream",
     "text": [
      "Epoch: 2\n"
     ]
    },
    {
     "name": "stderr",
     "output_type": "stream",
     "text": [
      "L: 209.97335815429688: 100%|████████████████████████████████████████████████████████████████████████████████████████████████████████████| 8220/8220 [11:55<00:00, 11.49it/s]\n",
      "VL: 225.64901733398438: 100%|███████████████████████████████████████████████████████████████████████████████████████████████████████████████| 31/31 [00:01<00:00, 18.19it/s]\n"
     ]
    },
    {
     "name": "stdout",
     "output_type": "stream",
     "text": [
      "Epoch: 3\n"
     ]
    },
    {
     "name": "stderr",
     "output_type": "stream",
     "text": [
      "L: 212.21839904785156: 100%|████████████████████████████████████████████████████████████████████████████████████████████████████████████| 8220/8220 [12:30<00:00, 10.95it/s]\n",
      "VL: 203.3289337158203: 100%|████████████████████████████████████████████████████████████████████████████████████████████████████████████████| 31/31 [00:01<00:00, 20.50it/s]\n"
     ]
    },
    {
     "name": "stdout",
     "output_type": "stream",
     "text": [
      "Epoch: 4\n"
     ]
    },
    {
     "name": "stderr",
     "output_type": "stream",
     "text": [
      "L: 202.21743774414062: 100%|████████████████████████████████████████████████████████████████████████████████████████████████████████████| 8220/8220 [12:46<00:00, 10.73it/s]\n",
      "VL: 205.0854034423828: 100%|████████████████████████████████████████████████████████████████████████████████████████████████████████████████| 31/31 [00:01<00:00, 20.16it/s]\n"
     ]
    },
    {
     "name": "stdout",
     "output_type": "stream",
     "text": [
      "Epoch: 5\n"
     ]
    },
    {
     "name": "stderr",
     "output_type": "stream",
     "text": [
      "L: 206.93531799316406: 100%|████████████████████████████████████████████████████████████████████████████████████████████████████████████| 8220/8220 [13:20<00:00, 10.27it/s]\n",
      "VL: 207.808837890625: 100%|█████████████████████████████████████████████████████████████████████████████████████████████████████████████████| 31/31 [00:01<00:00, 20.29it/s]\n"
     ]
    }
   ],
   "source": [
    "m = m.train()\n",
    "EPOCHS = 6\n",
    "for e in range(EPOCHS):\n",
    "    print(f\"Epoch: {e}\")\n",
    "    m = m.train()\n",
    "    pbar = tqdm(dl_train)\n",
    "    for i, (x_in, x_out) in enumerate(pbar):\n",
    "        opt.zero_grad()\n",
    "        x_in = x_in.to(device)\n",
    "        x_out = x_out.to(device)\n",
    "        mx = m(x_in)\n",
    "        L = (mx - x_out).pow(2).sum((1,2)).mean()\n",
    "        L.backward()\n",
    "        opt.step()\n",
    "    \n",
    "        pbar.set_description(f\"L: {L.item()}\")\n",
    "        Ls_train.append(L.item())\n",
    "    \n",
    "    with torch.no_grad():\n",
    "        m = m.eval()\n",
    "        pbar = tqdm(dl_valid)\n",
    "        for i, (x_in, x_out) in enumerate(pbar):\n",
    "            x_in = x_in.to(device)\n",
    "            x_out = x_out.to(device)\n",
    "            mx = m(x_in)\n",
    "            L = (mx - x_out).pow(2).sum((1,2)).mean()\n",
    "            pbar.set_description(f\"VL: {L.item()}\")\n",
    "            Ls_valid.append(L.item())"
   ]
  },
  {
   "cell_type": "code",
   "execution_count": 8,
   "metadata": {},
   "outputs": [],
   "source": [
    "# torch.save(({'train': Ls_train, 'valid':Ls_valid}, m.state_dict()), 'dae_6_IMDB.pt')"
   ]
  },
  {
   "cell_type": "code",
   "execution_count": 7,
   "metadata": {},
   "outputs": [],
   "source": [
    "losses, _ = torch.load('dae_6_IMDB.pt')"
   ]
  },
  {
   "cell_type": "code",
   "execution_count": 9,
   "metadata": {},
   "outputs": [
    {
     "data": {
      "text/plain": [
       "<matplotlib.legend.Legend at 0x7f326b6995e0>"
      ]
     },
     "execution_count": 9,
     "metadata": {},
     "output_type": "execute_result"
    },
    {
     "data": {
      "image/png": "[encoded data removed]",
      "text/plain": [
       "<Figure size 432x288 with 1 Axes>"
      ]
     },
     "metadata": {
      "needs_background": "light"
     },
     "output_type": "display_data"
    }
   ],
   "source": [
    "plt.plot(losses['train'], label='training loss')\n",
    "for i in range(6):\n",
    "    plt.scatter(\n",
    "        [(i+1)*263066//32 for _ in range(31)],\n",
    "        losses['valid'][i*31:(i+1)*31],\n",
    "        zorder=2,\n",
    "        c='firebrick',\n",
    "        label='validation loss' if i == 0 else ''\n",
    "    )\n",
    "plt.title('Training Loss and Validation Loss')\n",
    "plt.xlabel('Iterations')\n",
    "plt.ylabel('Loss')\n",
    "plt.legend()"
   ]
  },
  {
   "cell_type": "markdown",
   "metadata": {},
   "source": [
    "As we can see, the training loss and the validation loss look similar to the vanilla autoencoder, however it is higher. This is expected, as the denoising taks makes the prediction much more difficult."
   ]
  }
 ],
 "metadata": {
  "interpreter": {
   "hash": "916dbcbb3f70747c44a77c7bcd40155683ae19c65e1c03b4aa3499c5328201f1"
  },
  "kernelspec": {
   "display_name": "Python 3 (ipykernel)",
   "language": "python",
   "name": "python3"
  },
  "language_info": {
   "codemirror_mode": {
    "name": "ipython",
    "version": 3
   },
   "file_extension": ".py",
   "mimetype": "text/x-python",
   "name": "python",
   "nbconvert_exporter": "python",
   "pygments_lexer": "ipython3",
   "version": "3.8.10"
  }
 },
 "nbformat": 4,
 "nbformat_minor": 4
}
