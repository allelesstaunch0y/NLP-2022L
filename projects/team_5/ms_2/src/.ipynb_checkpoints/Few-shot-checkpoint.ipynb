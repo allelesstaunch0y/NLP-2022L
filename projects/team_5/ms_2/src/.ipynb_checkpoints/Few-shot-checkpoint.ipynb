{
 "cells": [
  {
   "cell_type": "markdown",
   "id": "8d2676b6-a129-4bd7-aec9-f69197938334",
   "metadata": {},
   "source": [
    "# Few-shot Learning Comparison"
   ]
  },
  {
   "cell_type": "markdown",
   "id": "f1cc6ff7-d971-46dc-805b-ed0560023397",
   "metadata": {
    "jp-MarkdownHeadingCollapsed": true,
    "tags": []
   },
   "source": [
    "## Imports"
   ]
  },
  {
   "cell_type": "code",
   "execution_count": 1,
   "id": "3cfaea45-fe8e-486c-b8a0-32e40ffdacca",
   "metadata": {},
   "outputs": [],
   "source": [
    "from sklearn.model_selection import train_test_split\n",
    "from sklearn.metrics import accuracy_score, balanced_accuracy_score\n",
    "from sklearn.svm import SVC\n",
    "\n",
    "import torch\n",
    "from torchtext.datasets import AG_NEWS, IMDB\n",
    "from data.autoencoding_dataset import AutoencodingDataset"
   ]
  },
  {
   "cell_type": "markdown",
   "id": "8399848d-e62e-4817-845d-2b4c096d43ab",
   "metadata": {
    "jp-MarkdownHeadingCollapsed": true,
    "tags": []
   },
   "source": [
    "## Preparing Dataset"
   ]
  },
  {
   "cell_type": "code",
   "execution_count": 2,
   "id": "bd633e96-62fe-4c89-ba4e-1b01ff61c192",
   "metadata": {},
   "outputs": [
    {
     "name": "stderr",
     "output_type": "stream",
     "text": [
      "/home/bodo/.local/lib/python3.8/site-packages/torch/utils/data/datapipes/utils/common.py:24: UserWarning: Lambda function is not supported for pickle, please use regular python function or functools.partial instead.\n",
      "  warnings.warn(\n"
     ]
    }
   ],
   "source": [
    "def prepare_dataset(dataset=AG_NEWS(split='test')):\n",
    "    dr = list(dataset)\n",
    "    sentences = [d[1] for d in dr]\n",
    "    classes = [d[0] for d in dr]\n",
    "    dp = AutoencodingDataset(sentences, classes=classes, max_len=16)\n",
    "    dp.preproces()\n",
    "    return dp"
   ]
  },
  {
   "cell_type": "markdown",
   "id": "e37aa226-139e-4d77-ace1-863279f7fcce",
   "metadata": {
    "jp-MarkdownHeadingCollapsed": true,
    "tags": []
   },
   "source": [
    "## Loading Encoder"
   ]
  },
  {
   "cell_type": "code",
   "execution_count": 3,
   "id": "573e6555-7f3c-46c6-aaa7-b2fa95c7f607",
   "metadata": {},
   "outputs": [],
   "source": [
    "def load_encoder(path):\n",
    "    m = Autoencoder(100,100,100,4,3,variational=True, max_log2len=8)\n",
    "    m.load_state_dict(torch.load(path_to_model, map_location=torch.device('cpu')))\n",
    "    encoder = m.encoder\n",
    "    return encoder"
   ]
  },
  {
   "cell_type": "markdown",
   "id": "67c3bf3d-220e-40f7-94d8-ce9db0556cd6",
   "metadata": {
    "jp-MarkdownHeadingCollapsed": true,
    "tags": []
   },
   "source": [
    "# SVM Comparison Script"
   ]
  },
  {
   "cell_type": "code",
   "execution_count": 4,
   "id": "72ee5c71-e960-4d75-a4d1-ddcfaf97eeac",
   "metadata": {},
   "outputs": [],
   "source": [
    "def prepare_comparison(encoder, dp):\n",
    "  \n",
    "  dl = torch.utils.data.DataLoader(dp, batch_size=1, shuffle=True)\n",
    "  \n",
    "  x_word_embeded = []\n",
    "  x_emb = []\n",
    "  x_bow = []\n",
    "  y = []\n",
    "  for x, _ in zip(dl, range(1100)): #ten range wywalic\n",
    "    x_bow.append(x[0].data.mean(1).numpy().reshape(-1))\n",
    "    x_word_embeded.append(x[0].data.numpy().reshape(-1))\n",
    "    x_emb.append(encoder(x[0]).data.numpy().reshape(-1))\n",
    "    y.append(int(x[1].data[0]))\n",
    "\n",
    "  acc_embeded = []\n",
    "  acc_word_embeded = []\n",
    "  acc_bow = []\n",
    "  for i in tqdm(range(10,1000, 10)):\n",
    "    clf_embeded = SVC()\n",
    "    clf_word_embeded = SVC()\n",
    "    clf_bow = SVC()\n",
    "    \n",
    "    clf_embeded.fit(x_emb[:i], y[:i])\n",
    "    clf_word_embeded.fit(x_word_embeded[:i], y[:i])\n",
    "    clf_bow.fit(x_bow[:i], y[:i])\n",
    "    acc_embeded.append(accuracy_score(y[i:], clf_embeded.predict(x_emb[i:])))\n",
    "    acc_word_embeded.append(accuracy_score(y[i:], clf_word_embeded.predict(x_word_embeded[i:])))\n",
    "    acc_bow.append(accuracy_score(y[i:], clf_bow.predict(x_bow[i:])))\n",
    "\n",
    "  return acc_embeded, acc_word_embeded, acc_bow"
   ]
  },
  {
   "cell_type": "markdown",
   "id": "96b304b2-dd56-44b2-b33d-756821b4750d",
   "metadata": {
    "jp-MarkdownHeadingCollapsed": true,
    "tags": []
   },
   "source": [
    "# Comparison"
   ]
  },
  {
   "cell_type": "code",
   "execution_count": null,
   "id": "74953307-5329-40f3-9211-b80379415be5",
   "metadata": {},
   "outputs": [],
   "source": [
    "encoder = load_encoder('')"
   ]
  },
  {
   "cell_type": "code",
   "execution_count": null,
   "id": "0533f3fa-49be-4326-8dc1-688a17ab0cd5",
   "metadata": {},
   "outputs": [],
   "source": [
    "dp = prepare_dataset()"
   ]
  },
  {
   "cell_type": "code",
   "execution_count": null,
   "id": "4f8d7b16-e5e0-47e7-a0aa-f1971e5c1444",
   "metadata": {},
   "outputs": [],
   "source": [
    "acc_embeded, acc_word_embeded, acc_bow = prepare_comparison(encoder, dp)"
   ]
  }
 ],
 "metadata": {
  "kernelspec": {
   "display_name": "Python 3 (ipykernel)",
   "language": "python",
   "name": "python3"
  },
  "language_info": {
   "codemirror_mode": {
    "name": "ipython",
    "version": 3
   },
   "file_extension": ".py",
   "mimetype": "text/x-python",
   "name": "python",
   "nbconvert_exporter": "python",
   "pygments_lexer": "ipython3",
   "version": "3.8.10"
  }
 },
 "nbformat": 4,
 "nbformat_minor": 5
}
